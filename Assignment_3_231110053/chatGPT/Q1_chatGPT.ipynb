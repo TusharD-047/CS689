{
 "cells": [
  {
   "cell_type": "code",
   "execution_count": null,
   "metadata": {},
   "outputs": [],
   "source": [
    "# %pip install accelerate\n",
    "# %pip install nltk\n",
    "# %pip install mosestokenizer\n",
    "# !pip install evaluate\n",
    "# !pip install rouge_score\n",
    "# % pip install  nltk\n",
    "# !git clone https://github.com/VarunGumma/IndicTransTokenizer\n",
    "# %cd IndicTransTokenizer\n",
    "# !pip install --editable /path_to/IndicTransTokenizer"
   ]
  },
  {
   "cell_type": "markdown",
   "metadata": {},
   "source": [
    "## Importing libraries"
   ]
  },
  {
   "cell_type": "code",
   "execution_count": 1,
   "metadata": {},
   "outputs": [
    {
     "name": "stderr",
     "output_type": "stream",
     "text": [
      "c:\\Users\\Tusha\\anaconda3\\envs\\CS689\\Lib\\site-packages\\tqdm\\auto.py:21: TqdmWarning: IProgress not found. Please update jupyter and ipywidgets. See https://ipywidgets.readthedocs.io/en/stable/user_install.html\n",
      "  from .autonotebook import tqdm as notebook_tqdm\n"
     ]
    }
   ],
   "source": [
    "import evaluate"
   ]
  },
  {
   "cell_type": "markdown",
   "metadata": {},
   "source": [
    "## Opening 100 sentences files"
   ]
  },
  {
   "cell_type": "code",
   "execution_count": 2,
   "metadata": {},
   "outputs": [],
   "source": [
    "def openFiles(filepath):\n",
    "    with open(filepath, 'r',encoding='utf-8') as f:\n",
    "        data = f.readlines()\n",
    "        data = [x.strip().replace('\\u200d','') for x in data]\n",
    "        return data"
   ]
  },
  {
   "cell_type": "code",
   "execution_count": 3,
   "metadata": {},
   "outputs": [],
   "source": [
    "original_en = openFiles('./original_en_100.txt')\n",
    "original_hi = openFiles('./original_hi_100.txt')\n",
    "original_mar = openFiles('./original_mr_100.txt')\n",
    "hi_mar_chatgpt = openFiles('./chatgpt_hi_mr.txt')\n",
    "mar_hi_chatgpt = openFiles('./chatgpt_mr_hi.txt')\n",
    "en_hi_chatgpt = openFiles('./chatgpt_en_hi.txt')\n",
    "hi_en_chatgpt = openFiles('./chatgpt_hi_en.txt')"
   ]
  },
  {
   "cell_type": "markdown",
   "metadata": {},
   "source": [
    "## Calculating BLEU Score"
   ]
  },
  {
   "cell_type": "code",
   "execution_count": 5,
   "metadata": {},
   "outputs": [],
   "source": [
    "def computeBLEU(original, translated):\n",
    "    bleu = evaluate.load(\"bleu\")\n",
    "    results = bleu.compute(predictions=translated, references=original)\n",
    "    return results\n",
    "def rogueScore(original, translated):\n",
    "    rogue = evaluate.load('rouge')\n",
    "    results = rogue.compute(predictions=translated, references=original)\n",
    "    return results"
   ]
  },
  {
   "cell_type": "code",
   "execution_count": 6,
   "metadata": {},
   "outputs": [
    {
     "name": "stdout",
     "output_type": "stream",
     "text": [
      "BLEU Score for Hindi to English\n",
      "{'bleu': 0.4728406580168365, 'precisions': [0.7210884353741497, 0.5168269230769231, 0.4085677749360614, 0.3312841530054645], 'brevity_penalty': 0.9977349953069206, 'length_ratio': 0.997737556561086, 'translation_length': 1764, 'reference_length': 1768}\n",
      "Rogue Score for English to Hindi\n",
      "{'rouge1': 0.7447840921559286, 'rouge2': 0.5659834635121117, 'rougeL': 0.7056041773050624, 'rougeLsum': 0.7053020216418213}\n",
      "BLEU Score for English to Hindi\n",
      "{'bleu': 0.23357549138393796, 'precisions': [0.5705882352941176, 0.318125, 0.18866666666666668, 0.11857142857142858], 'brevity_penalty': 0.9252909421934564, 'length_ratio': 0.9279475982532751, 'translation_length': 1700, 'reference_length': 1832}\n",
      "Rogue Score for Hindi to English\n",
      "{'rouge1': 0.15685714285714286, 'rouge2': 0.015, 'rougeL': 0.154, 'rougeLsum': 0.15523809523809523}\n",
      "BLEU Score for Hindi to Marathi\n",
      "{'bleu': 0.05485331489264707, 'precisions': [0.2759308510638298, 0.0876068376068376, 0.032208588957055216, 0.011627906976744186], 'brevity_penalty': 1.0, 'length_ratio': 1.055438596491228, 'translation_length': 1504, 'reference_length': 1425}\n",
      "Rogue Score for Hindi to Marathi\n",
      "{'rouge1': 0.038, 'rouge2': 0.0, 'rougeL': 0.036, 'rougeLsum': 0.036000000000000004}\n",
      "BLEU Score for Marathi to Hindi\n",
      "{'bleu': 0.19390239225707095, 'precisions': [0.5039274924471299, 0.2720257234726688, 0.15876288659793814, 0.0996309963099631], 'brevity_penalty': 0.8985718220196234, 'length_ratio': 0.9033842794759825, 'translation_length': 1655, 'reference_length': 1832}\n",
      "Rogue Score for Marathi to Hindi\n",
      "{'rouge1': 0.14746753246753247, 'rouge2': 0.014444444444444447, 'rougeL': 0.1455844155844156, 'rougeLsum': 0.14582251082251083}\n"
     ]
    }
   ],
   "source": [
    "print(\"BLEU Score for Hindi to English\")\n",
    "print(computeBLEU(original_en, hi_en_chatgpt))\n",
    "print(\"Rogue Score for English to Hindi\")\n",
    "print(rogueScore(original_en, hi_en_chatgpt))\n",
    "\n",
    "print(\"BLEU Score for English to Hindi\")\n",
    "print(computeBLEU(original_hi, en_hi_chatgpt))\n",
    "print(\"Rogue Score for Hindi to English\")\n",
    "print(rogueScore(original_hi, en_hi_chatgpt))\n",
    "\n",
    "print(\"BLEU Score for Hindi to Marathi\")\n",
    "print(computeBLEU(original_mar, hi_mar_chatgpt))\n",
    "print(\"Rogue Score for Hindi to Marathi\")\n",
    "print(rogueScore(original_mar, hi_mar_chatgpt))\n",
    "\n",
    "\n",
    "print(\"BLEU Score for Marathi to Hindi\")\n",
    "print(computeBLEU(original_hi, mar_hi_chatgpt))\n",
    "print(\"Rogue Score for Marathi to Hindi\")\n",
    "print(rogueScore(original_hi, mar_hi_chatgpt))\n"
   ]
  },
  {
   "cell_type": "code",
   "execution_count": 4,
   "metadata": {},
   "outputs": [
    {
     "name": "stdout",
     "output_type": "stream",
     "text": [
      "BLEU Score for Hindi to English\n",
      "0.47509683146221504\n",
      "Rogue Score for Hindi to English\n",
      "{'rouge1': 0.7434089470318465, 'rouge2': 0.5683371932644072, 'rougeL': 0.7060952867087982, 'rougeLsum': 0.7052969376071054}\n",
      "BLEU Score for English to Hindi\n",
      "0.27624255142580617\n",
      "Rogue Score for English to Hindi\n",
      "{'rouge1': 0.15323809523809523, 'rouge2': 0.015, 'rougeL': 0.15523809523809523, 'rougeLsum': 0.1559047619047619}\n",
      "BLEU Score for Hindi to Marathi\n",
      "0.12087018544950558\n",
      "Rogue Score for Hindi to Marathi\n",
      "{'rouge1': 0.036, 'rouge2': 0.0, 'rougeL': 0.036000000000000004, 'rougeLsum': 0.038}\n",
      "BLEU Score for Marathi to Hindi\n",
      "0.22502210136842093\n",
      "Rogue Score for Marathi to Hindi\n",
      "{'rouge1': 0.14413419913419911, 'rouge2': 0.014444444444444444, 'rougeL': 0.1453246753246753, 'rougeLsum': 0.14857142857142858}\n"
     ]
    }
   ],
   "source": [
    "from nltk.translate.bleu_score import sentence_bleu \n",
    "from nltk.translate.bleu_score import SmoothingFunction\n",
    "import evaluate\n",
    "\n",
    "\n",
    "def computeBLEU(ref,pred):\n",
    "    score = 0\n",
    "    cc = SmoothingFunction()\n",
    "    for i in range(len(ref)):\n",
    "       references = ref[i].split()\n",
    "       candidate = pred[i].split() \n",
    "       score += sentence_bleu([references], candidate,smoothing_function=cc.method2)      \n",
    "    return score/len(ref) \n",
    "\n",
    "def computeRogue(original, translated):\n",
    "    rogue = evaluate.load('rouge')\n",
    "    results = rogue.compute(predictions=translated, references=original)\n",
    "    return results\n",
    "\n",
    "print(\"BLEU Score for Hindi to English\")    \n",
    "print(computeBLEU(original_en, hi_en_chatgpt))\n",
    "print(\"Rogue Score for Hindi to English\")\n",
    "print(computeRogue(original_en, hi_en_chatgpt))\n",
    "\n",
    "print(\"BLEU Score for English to Hindi\")\n",
    "print(computeBLEU(original_hi, en_hi_chatgpt))\n",
    "print(\"Rogue Score for English to Hindi\")\n",
    "print(computeRogue(original_hi, en_hi_chatgpt))\n",
    "\n",
    "print(\"BLEU Score for Hindi to Marathi\")\n",
    "print(computeBLEU(original_mar, hi_mar_chatgpt))\n",
    "print(\"Rogue Score for Hindi to Marathi\")\n",
    "print(computeRogue(original_mar, hi_mar_chatgpt))\n",
    "\n",
    "print(\"BLEU Score for Marathi to Hindi\")\n",
    "print(computeBLEU(original_hi, mar_hi_chatgpt))\n",
    "print(\"Rogue Score for Marathi to Hindi\")\n",
    "print(computeRogue(original_hi, mar_hi_chatgpt))\n",
    "\n"
   ]
  },
  {
   "cell_type": "code",
   "execution_count": null,
   "metadata": {},
   "outputs": [],
   "source": []
  }
 ],
 "metadata": {
  "kernelspec": {
   "display_name": "CS689",
   "language": "python",
   "name": "python3"
  },
  "language_info": {
   "codemirror_mode": {
    "name": "ipython",
    "version": 3
   },
   "file_extension": ".py",
   "mimetype": "text/x-python",
   "name": "python",
   "nbconvert_exporter": "python",
   "pygments_lexer": "ipython3",
   "version": "3.11.7"
  }
 },
 "nbformat": 4,
 "nbformat_minor": 2
}
