{
 "cells": [
  {
   "cell_type": "markdown",
   "metadata": {},
   "source": [
    "## Importing Test Files"
   ]
  },
  {
   "cell_type": "code",
   "execution_count": 1,
   "metadata": {},
   "outputs": [],
   "source": [
    "import os\n",
    "path = os.path.abspath('./data/test.hi')\n",
    "\n",
    "with open(path,'r',encoding='utf-8') as f:\n",
    "    text = f.readlines()\n",
    "    text = [x.strip().replace('\\u200d', '') for x in text]\n",
    "    \n",
    "\n",
    "sentences = []\n",
    "for line in text:\n",
    "    sentences.append(line)\n",
    "    \n",
    "en_path = os.path.abspath('./data/test.en')\n",
    "with open(en_path,'r',encoding='utf-8') as f:\n",
    "    text_en = f.readlines()\n",
    "    text_en = [x.strip().replace('\\u200d', '') for x in text_en]\n",
    "    \n",
    "\n",
    "sentences_en = []\n",
    "for line in text_en:\n",
    "    sentences_en.append(line)\n",
    "    \n",
    "mar_path = os.path.abspath('./data/test.mr')\n",
    "with open(mar_path,'r',encoding='utf-8') as f:\n",
    "    text_mar = f.readlines()\n",
    "    text_mar = [x.strip().replace('\\u200d', '') for x in text_mar]\n",
    "    \n",
    "\n",
    "sentences_mar = []\n",
    "for line in text_mar:\n",
    "    sentences_mar.append(line)\n"
   ]
  },
  {
   "cell_type": "markdown",
   "metadata": {},
   "source": [
    "## Random selecting 1000 sentences"
   ]
  },
  {
   "cell_type": "code",
   "execution_count": 2,
   "metadata": {},
   "outputs": [],
   "source": [
    "import random\n",
    "rand_indexes = random.sample(range(0,len(sentences)),1000)"
   ]
  },
  {
   "cell_type": "code",
   "execution_count": 3,
   "metadata": {},
   "outputs": [],
   "source": [
    "import random\n",
    "hindi_1000_sentences = [sentences[i] for i in rand_indexes]\n",
    "marathi_1000_sentences = [sentences_mar[i] for i in rand_indexes]\n",
    "eng_1000_sentences = [sentences_en[i] for i in rand_indexes]"
   ]
  },
  {
   "cell_type": "markdown",
   "metadata": {},
   "source": [
    "## Saving these files"
   ]
  },
  {
   "cell_type": "code",
   "execution_count": 8,
   "metadata": {},
   "outputs": [],
   "source": [
    "with open(\"hindi_sentences.txt\", \"w\",encoding='utf-8') as txt_file:\n",
    "    for line in hindi_1000_sentences:\n",
    "        txt_file.write(line+'\\n')\n",
    "with open(\"eng_sentences.txt\", \"w\",encoding='utf-8') as txt_file:\n",
    "    for line in eng_1000_sentences:\n",
    "        txt_file.write(line+'\\n')\n",
    "with open(\"marathi_sentences.txt\", \"w\",encoding='utf-8') as txt_file:\n",
    "    for line in marathi_1000_sentences:\n",
    "        txt_file.write(line+'\\n')"
   ]
  }
 ],
 "metadata": {
  "kernelspec": {
   "display_name": "CS689",
   "language": "python",
   "name": "python3"
  },
  "language_info": {
   "codemirror_mode": {
    "name": "ipython",
    "version": 3
   },
   "file_extension": ".py",
   "mimetype": "text/x-python",
   "name": "python",
   "nbconvert_exporter": "python",
   "pygments_lexer": "ipython3",
   "version": "3.11.7"
  }
 },
 "nbformat": 4,
 "nbformat_minor": 2
}
